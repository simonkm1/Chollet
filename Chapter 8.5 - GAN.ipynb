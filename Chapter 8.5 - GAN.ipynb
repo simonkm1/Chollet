{
 "cells": [
  {
   "cell_type": "code",
   "execution_count": 8,
   "metadata": {},
   "outputs": [
    {
     "name": "stdout",
     "output_type": "stream",
     "text": [
      "C:\\ProgramData\\Anaconda3\\envs\\py36\\python.exe\n"
     ]
    }
   ],
   "source": [
    "# Model definition\n",
    "import os\n",
    "import sys\n",
    "import numpy as np\n",
    "import pandas as pd\n",
    "\n",
    "print (sys.executable)\n",
    "\n",
    "# SKLEARN\n",
    "from sklearn.preprocessing  import ( StandardScaler, )\n",
    "from sklearn.model_selection import ( train_test_split,KFold,cross_val_score, )\n",
    "\n",
    "#KERAS \n",
    "import keras as ks\n",
    "from keras import backend as K\n",
    "from keras import models\n",
    "from keras import layers\n",
    "from keras import (Input,)\n",
    "from keras.applications import (VGG16,inception_v3,)\n",
    "from keras.callbacks import (ModelCheckpoint,EarlyStopping,LearningRateScheduler,ReduceLROnPlateau,CSVLogger,)\n",
    "from keras.datasets import (boston_housing,mnist, imdb,)\n",
    "from keras.layers import (Dense,Flatten,Embedding, SimpleRNN, LSTM, GRU, MaxPooling1D, Conv1D,Conv2D, \n",
    "                          Conv2DTranspose,LeakyReLU, GlobalMaxPooling1D, Reshape, )\n",
    "from keras.models import (load_model,Model,Sequential, )\n",
    "from keras.optimizers import (RMSprop,)\n",
    "from keras.preprocessing.image import (ImageDataGenerator,image,)\n",
    "from keras.preprocessing.sequence import pad_sequences\n",
    "from keras.preprocessing.text import Tokenizer\n",
    "from keras.utils import to_categorical\n",
    "from keras.wrappers.scikit_learn import KerasRegressor\n",
    "\n",
    "\n",
    "import matplotlib.pyplot as plt\n",
    "%matplotlib inline\n",
    "\n"
   ]
  },
  {
   "cell_type": "markdown",
   "metadata": {},
   "source": [
    "# Generator"
   ]
  },
  {
   "cell_type": "code",
   "execution_count": 9,
   "metadata": {},
   "outputs": [
    {
     "name": "stdout",
     "output_type": "stream",
     "text": [
      "_________________________________________________________________\n",
      "Layer (type)                 Output Shape              Param #   \n",
      "=================================================================\n",
      "input_3 (InputLayer)         (None, 32)                0         \n",
      "_________________________________________________________________\n",
      "dense_3 (Dense)              (None, 32768)             1081344   \n",
      "_________________________________________________________________\n",
      "leaky_re_lu_4 (LeakyReLU)    (None, 32768)             0         \n",
      "_________________________________________________________________\n",
      "reshape_2 (Reshape)          (None, 16, 16, 128)       0         \n",
      "_________________________________________________________________\n",
      "conv2d_2 (Conv2D)            (None, 16, 16, 256)       819456    \n",
      "_________________________________________________________________\n",
      "leaky_re_lu_5 (LeakyReLU)    (None, 16, 16, 256)       0         \n",
      "_________________________________________________________________\n",
      "conv2d_transpose_1 (Conv2DTr (None, 32, 32, 256)       1048832   \n",
      "_________________________________________________________________\n",
      "leaky_re_lu_6 (LeakyReLU)    (None, 32, 32, 256)       0         \n",
      "_________________________________________________________________\n",
      "conv2d_3 (Conv2D)            (None, 32, 32, 256)       1638656   \n",
      "_________________________________________________________________\n",
      "leaky_re_lu_7 (LeakyReLU)    (None, 32, 32, 256)       0         \n",
      "_________________________________________________________________\n",
      "conv2d_4 (Conv2D)            (None, 32, 32, 256)       1638656   \n",
      "_________________________________________________________________\n",
      "leaky_re_lu_8 (LeakyReLU)    (None, 32, 32, 256)       0         \n",
      "_________________________________________________________________\n",
      "conv2d_5 (Conv2D)            (None, 32, 32, 3)         37635     \n",
      "=================================================================\n",
      "Total params: 6,264,579\n",
      "Trainable params: 6,264,579\n",
      "Non-trainable params: 0\n",
      "_________________________________________________________________\n"
     ]
    }
   ],
   "source": [
    "latent_dim = 32\n",
    "height = 32\n",
    "width = 32\n",
    "channels = 3\n",
    "\n",
    "generator_input = ks.Input(shape=(latent_dim,))\n",
    "\n",
    "x = Dense(128 * 16 * 16)(generator_input)                     \n",
    "x = LeakyReLU()(x)                                            \n",
    "x = Reshape((16, 16, 128))(x)\n",
    "x = Conv2D(256, 5, padding='same')(x)\n",
    "x = LeakyReLU()(x)\n",
    "\n",
    "x = Conv2DTranspose(256, 4, strides=2, padding='same')(x)     \n",
    "x = LeakyReLU()(x)                                            \n",
    "\n",
    "x = Conv2D(256, 5, padding='same')(x)\n",
    "x = LeakyReLU()(x)\n",
    "x = Conv2D(256, 5, padding='same')(x)\n",
    "x = LeakyReLU()(x)\n",
    "\n",
    "x = Conv2D(channels, 7, activation='tanh', padding='same')(x) \n",
    "generator = Model(generator_input, x)                   \n",
    "generator.summary()"
   ]
  },
  {
   "cell_type": "markdown",
   "metadata": {},
   "source": [
    "# Discriminator\n",
    "takes as input a candidate image (real or synthetic) and classifies it into one of two classes: “generated image”\n",
    "         or “real image that comes from the training set"
   ]
  },
  {
   "cell_type": "code",
   "execution_count": 10,
   "metadata": {},
   "outputs": [
    {
     "name": "stdout",
     "output_type": "stream",
     "text": [
      "_________________________________________________________________\n",
      "Layer (type)                 Output Shape              Param #   \n",
      "=================================================================\n",
      "input_4 (InputLayer)         (None, 32, 32, 3)         0         \n",
      "_________________________________________________________________\n",
      "conv2d_6 (Conv2D)            (None, 30, 30, 128)       3584      \n",
      "_________________________________________________________________\n",
      "leaky_re_lu_9 (LeakyReLU)    (None, 30, 30, 128)       0         \n",
      "_________________________________________________________________\n",
      "conv2d_7 (Conv2D)            (None, 14, 14, 128)       262272    \n",
      "_________________________________________________________________\n",
      "leaky_re_lu_10 (LeakyReLU)   (None, 14, 14, 128)       0         \n",
      "_________________________________________________________________\n",
      "conv2d_8 (Conv2D)            (None, 6, 6, 128)         262272    \n",
      "_________________________________________________________________\n",
      "leaky_re_lu_11 (LeakyReLU)   (None, 6, 6, 128)         0         \n",
      "_________________________________________________________________\n",
      "conv2d_9 (Conv2D)            (None, 2, 2, 128)         262272    \n",
      "_________________________________________________________________\n",
      "leaky_re_lu_12 (LeakyReLU)   (None, 2, 2, 128)         0         \n",
      "_________________________________________________________________\n",
      "flatten_1 (Flatten)          (None, 512)               0         \n",
      "_________________________________________________________________\n",
      "dropout_1 (Dropout)          (None, 512)               0         \n",
      "_________________________________________________________________\n",
      "dense_4 (Dense)              (None, 1)                 513       \n",
      "=================================================================\n",
      "Total params: 790,913\n",
      "Trainable params: 790,913\n",
      "Non-trainable params: 0\n",
      "_________________________________________________________________\n"
     ]
    }
   ],
   "source": [
    "discriminator_input = Input(shape=(height, width, channels))\n",
    "x = layers.Conv2D(128, 3)(discriminator_input)\n",
    "x = layers.LeakyReLU()(x)\n",
    "x = layers.Conv2D(128, 4, strides=2)(x)\n",
    "x = layers.LeakyReLU()(x)\n",
    "x = layers.Conv2D(128, 4, strides=2)(x)\n",
    "x = layers.LeakyReLU()(x)\n",
    "x = layers.Conv2D(128, 4, strides=2)(x)\n",
    "x = layers.LeakyReLU()(x)\n",
    "x = layers.Flatten()(x)\n",
    "\n",
    "x = layers.Dropout(0.4)(x)\n",
    "x = layers.Dense(1, activation='sigmoid')(x)                    \n",
    "\n",
    "discriminator = Model(discriminator_input, x) \n",
    "discriminator.summary()\n",
    "\n",
    "discriminator_optimizer = RMSprop(lr=0.0008,\n",
    "                                  clipvalue=1.0,                                          \n",
    "                                  decay=1e-8)                                             \n",
    "discriminator.compile(optimizer=discriminator_optimizer,\n",
    "                      loss='binary_crossentropy')"
   ]
  },
  {
   "cell_type": "markdown",
   "metadata": {},
   "source": [
    "# Adeverasarial Net"
   ]
  },
  {
   "cell_type": "code",
   "execution_count": 11,
   "metadata": {},
   "outputs": [],
   "source": [
    "discriminator.trainable = False         \n",
    "\n",
    "gan_input = Input(shape=(latent_dim,))\n",
    "gan_output = discriminator(generator(gan_input))\n",
    "gan = Model(gan_input, gan_output)\n",
    "gan_optimizer = ks.optimizers.RMSprop(lr=0.0004, clipvalue=1.0, decay=1e-8)\n",
    "gan.compile(optimizer=gan_optimizer, loss='binary_crossentropy')"
   ]
  },
  {
   "cell_type": "markdown",
   "metadata": {},
   "source": [
    "# GAN Training"
   ]
  },
  {
   "cell_type": "code",
   "execution_count": null,
   "metadata": {},
   "outputs": [],
   "source": [
    "(x_train, y_train), (_, _) = ks.datasets.cifar10.load_data()            \n",
    "print(\"cifar10 loaded\")\n",
    "\n",
    "# class 6 is frod\n",
    "x_train = x_train[y_train.flatten() == 6]                                  \n",
    "\n",
    "# normilize data\n",
    "x_train = x_train.reshape((x_train.shape[0],) + (height, width, channels)).astype('float32') / 255.                    \n",
    "\n",
    "iterations = 1000\n",
    "batch_size = 20\n",
    "save_dir = '.'                                                      \n",
    "\n",
    "start = 0\n",
    "for step in range(iterations):\n",
    "    if step % 10:\n",
    "        print (step)\n",
    "    \n",
    "    random_latent_vectors = np.random.normal(size=(batch_size, latent_dim))                   \n",
    "\n",
    "    generated_images = generator.predict(random_latent_vectors)            \n",
    "\n",
    "    stop = start + batch_size                                              \n",
    "    real_images = x_train[start: stop]                                     \n",
    "    combined_images = np.concatenate([generated_images, real_images])      \n",
    "\n",
    "    #Assembles labels, discrim-inating real from fake image\n",
    "    labels = np.concatenate([np.ones((batch_size, 1)),                     \n",
    "                             np.zeros((batch_size, 1))])     \n",
    "    # Adds random noise to the labels—an important trick!\n",
    "    labels += 0.05 * np.random.random(labels.shape)                        \n",
    "\n",
    "    d_loss = discriminator.train_on_batch(combined_images, labels)         \n",
    "\n",
    "    #Samples random points in the latent space\n",
    "    random_latent_vectors = np.random.normal(size=(batch_size,             \n",
    "                                            latent_dim))                   \n",
    "\n",
    "    #Assembles labels that say “these are all real images” (it’s a lie!\n",
    "    misleading_targets = np.zeros((batch_size, 1))                         \n",
    "\n",
    "    #Trains the generator (via the gan model, where the discrim-inator weights are frozen\n",
    "    a_loss = gan.train_on_batch(random_latent_vectors, misleading_targets)                        \n",
    "\n",
    "    start += batch_size\n",
    "    if start > len(x_train) - batch_size: start = 0\n",
    "    if step % 100 == 0:                                                    \n",
    "        gan.save_weights('gan.h5')                                         \n",
    "\n",
    "        print('discriminator loss:', d_loss)                               \n",
    "        print('adversarial loss:', a_loss)                                 \n",
    "\n",
    "        # save one generated image\n",
    "        img = image.array_to_img(generated_images[0] * 255., scale=False)  \n",
    "        img.save(os.path.join(save_dir, 'generated_frog' + str(step) + '.png'))              \n",
    "\n",
    "        #Saves one real image for comparison\n",
    "        img = image.array_to_img(real_images[0] * 255., scale=False)       \n",
    "        img.save(os.path.join(save_dir, 'real_frog' + str(step) + '.png')) "
   ]
  },
  {
   "cell_type": "code",
   "execution_count": null,
   "metadata": {},
   "outputs": [],
   "source": []
  }
 ],
 "metadata": {
  "kernelspec": {
   "display_name": "Python 3",
   "language": "python",
   "name": "python3"
  },
  "language_info": {
   "codemirror_mode": {
    "name": "ipython",
    "version": 3
   },
   "file_extension": ".py",
   "mimetype": "text/x-python",
   "name": "python",
   "nbconvert_exporter": "python",
   "pygments_lexer": "ipython3",
   "version": "3.6.7"
  }
 },
 "nbformat": 4,
 "nbformat_minor": 2
}
