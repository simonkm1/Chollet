{
 "cells": [
  {
   "cell_type": "code",
   "execution_count": 30,
   "metadata": {},
   "outputs": [],
   "source": [
    "# Model definition\n",
    "import os\n",
    "import numpy as np\n",
    "import pandas as pd\n",
    "\n",
    "# SKLEARN\n",
    "from sklearn.preprocessing  import ( StandardScaler, )\n",
    "from sklearn.model_selection import ( train_test_split,KFold,cross_val_score, )\n",
    "\n",
    "#KERAS \n",
    "from keras import backend\n",
    "from keras import models\n",
    "from keras import layers\n",
    "from keras import optimizers\n",
    "from keras.wrappers.scikit_learn import KerasRegressor\n",
    "\n",
    "from keras.layers import (Dense,Flatten,Embedding, SimpleRNN, LSTM, GRU, )\n",
    "from keras.models import (load_model,Sequential, )\n",
    "from keras.applications import (VGG16,)\n",
    "from keras.preprocessing.image import (ImageDataGenerator,image,)\n",
    "from keras.preprocessing.sequence import pad_sequences\n",
    "from keras.preprocessing.text import Tokenizer\n",
    "from keras.datasets import (boston_housing,mnist, imdb,)\n",
    "from keras.utils import to_categorical\n",
    "\n",
    "\n",
    "import matplotlib.pyplot as plt\n",
    "%matplotlib inline\n",
    "\n",
    "#from utils import plot_history"
   ]
  },
  {
   "cell_type": "code",
   "execution_count": 2,
   "metadata": {},
   "outputs": [],
   "source": [
    "imdb_dir = r'G:\\STUDY\\Chollet - Deep LEarning With Python - Keras\\aclImdb\\test'\n",
    "EMBED_DIM = 300\n",
    "GLOVE_FILE = r'G:\\KAGGLE\\Quora\\embeddings\\glove.840B.300d\\glove.840B.300d.txt'\n",
    "WORD2VEC_FILE = r'G:\\KAGGLE\\Quora\\embeddings\\glove.840B.300d\\word2vec.840B.300d.txt'\n",
    "\n",
    "max_features = 10000\n",
    "max_words = 10000\n",
    "maxlen = 100\n",
    "sample = 10000"
   ]
  },
  {
   "cell_type": "code",
   "execution_count": 3,
   "metadata": {},
   "outputs": [
    {
     "name": "stdout",
     "output_type": "stream",
     "text": [
      "Original shapes: (25000,) (25000,)\n",
      "New shapes: (10000, 100) (25000, 100)\n"
     ]
    }
   ],
   "source": [
    "(x_train, y_train),(x_test, y_test)= imdb.load_data(num_words = max_features)\n",
    "\n",
    "print(\"Original shapes:\", x_train.shape,x_test.shape)\n",
    "\n",
    "if sample > 0:\n",
    "    x_train  = x_train[0:sample]\n",
    "    y_train  = y_train[0:sample]\n",
    "\n",
    "x_train = pad_sequences(x_train, maxlen = maxlen)\n",
    "x_test = pad_sequences(x_test, maxlen = maxlen)\n",
    "\n",
    "print(\"New shapes:\", x_train.shape,x_test.shape)"
   ]
  },
  {
   "cell_type": "code",
   "execution_count": 4,
   "metadata": {},
   "outputs": [],
   "source": [
    "def build_model():\n",
    "    model = Sequential()\n",
    "    model.add(Embedding(input_dim =max_features, output_dim = EMBED_DIM, input_length = maxlen))\n",
    "    model.add(Flatten())\n",
    "    model.add(Dense(32, activation='relu'))    \n",
    "    model.add(Dense(1, activation='sigmoid'))\n",
    "    \n",
    "    model.compile(optimizer='rmsprop', loss = 'binary_crossentropy', metrics=['acc'])\n",
    "\n",
    "    print(model.summary())\n",
    "\n",
    "    return model\n"
   ]
  },
  {
   "cell_type": "code",
   "execution_count": 48,
   "metadata": {},
   "outputs": [
    {
     "name": "stdout",
     "output_type": "stream",
     "text": [
      "_________________________________________________________________\n",
      "Layer (type)                 Output Shape              Param #   \n",
      "=================================================================\n",
      "embedding_16 (Embedding)     (None, 100, 300)          3000000   \n",
      "_________________________________________________________________\n",
      "flatten_16 (Flatten)         (None, 30000)             0         \n",
      "_________________________________________________________________\n",
      "dense_28 (Dense)             (None, 32)                960032    \n",
      "_________________________________________________________________\n",
      "dense_29 (Dense)             (None, 1)                 33        \n",
      "=================================================================\n",
      "Total params: 3,960,065\n",
      "Trainable params: 3,960,065\n",
      "Non-trainable params: 0\n",
      "_________________________________________________________________\n",
      "None\n",
      "Train on 8000 samples, validate on 2000 samples\n",
      "Epoch 1/10\n",
      "8000/8000 [==============================] - 5s 564us/step - loss: 0.5653 - acc: 0.6935 - val_loss: 0.4048 - val_acc: 0.8155\n",
      "Epoch 2/10\n",
      "8000/8000 [==============================] - 4s 526us/step - loss: 0.1325 - acc: 0.9638 - val_loss: 0.4217 - val_acc: 0.8100\n",
      "Epoch 3/10\n",
      " 700/8000 [=>............................] - ETA: 3s - loss: 0.0150 - acc: 0.9986"
     ]
    },
    {
     "ename": "KeyboardInterrupt",
     "evalue": "",
     "output_type": "error",
     "traceback": [
      "\u001b[1;31m---------------------------------------------------------------------------\u001b[0m",
      "\u001b[1;31mKeyboardInterrupt\u001b[0m                         Traceback (most recent call last)",
      "\u001b[1;32m<ipython-input-48-19f6726712f1>\u001b[0m in \u001b[0;36m<module>\u001b[1;34m\u001b[0m\n\u001b[0;32m      1\u001b[0m \u001b[0mmodel\u001b[0m \u001b[1;33m=\u001b[0m \u001b[0mbuild_model\u001b[0m\u001b[1;33m(\u001b[0m\u001b[1;33m)\u001b[0m\u001b[1;33m\u001b[0m\u001b[1;33m\u001b[0m\u001b[0m\n\u001b[1;32m----> 2\u001b[1;33m \u001b[0mhistory\u001b[0m \u001b[1;33m=\u001b[0m \u001b[0mmodel\u001b[0m\u001b[1;33m.\u001b[0m\u001b[0mfit\u001b[0m\u001b[1;33m(\u001b[0m\u001b[0mx_train\u001b[0m\u001b[1;33m,\u001b[0m \u001b[0my_train\u001b[0m\u001b[1;33m,\u001b[0m \u001b[0mepochs\u001b[0m \u001b[1;33m=\u001b[0m\u001b[1;36m10\u001b[0m\u001b[1;33m,\u001b[0m \u001b[0mbatch_size\u001b[0m \u001b[1;33m=\u001b[0m \u001b[1;36m100\u001b[0m\u001b[1;33m,\u001b[0m \u001b[0mvalidation_split\u001b[0m\u001b[1;33m=\u001b[0m \u001b[1;36m0.2\u001b[0m\u001b[1;33m)\u001b[0m\u001b[1;33m\u001b[0m\u001b[1;33m\u001b[0m\u001b[0m\n\u001b[0m",
      "\u001b[1;32mC:\\ProgramData\\Anaconda3\\envs\\kaggle_py36\\lib\\site-packages\\keras\\engine\\training.py\u001b[0m in \u001b[0;36mfit\u001b[1;34m(self, x, y, batch_size, epochs, verbose, callbacks, validation_split, validation_data, shuffle, class_weight, sample_weight, initial_epoch, steps_per_epoch, validation_steps, **kwargs)\u001b[0m\n\u001b[0;32m   1037\u001b[0m                                         \u001b[0minitial_epoch\u001b[0m\u001b[1;33m=\u001b[0m\u001b[0minitial_epoch\u001b[0m\u001b[1;33m,\u001b[0m\u001b[1;33m\u001b[0m\u001b[1;33m\u001b[0m\u001b[0m\n\u001b[0;32m   1038\u001b[0m                                         \u001b[0msteps_per_epoch\u001b[0m\u001b[1;33m=\u001b[0m\u001b[0msteps_per_epoch\u001b[0m\u001b[1;33m,\u001b[0m\u001b[1;33m\u001b[0m\u001b[1;33m\u001b[0m\u001b[0m\n\u001b[1;32m-> 1039\u001b[1;33m                                         validation_steps=validation_steps)\n\u001b[0m\u001b[0;32m   1040\u001b[0m \u001b[1;33m\u001b[0m\u001b[0m\n\u001b[0;32m   1041\u001b[0m     def evaluate(self, x=None, y=None,\n",
      "\u001b[1;32mC:\\ProgramData\\Anaconda3\\envs\\kaggle_py36\\lib\\site-packages\\keras\\engine\\training_arrays.py\u001b[0m in \u001b[0;36mfit_loop\u001b[1;34m(model, f, ins, out_labels, batch_size, epochs, verbose, callbacks, val_f, val_ins, shuffle, callback_metrics, initial_epoch, steps_per_epoch, validation_steps)\u001b[0m\n\u001b[0;32m    197\u001b[0m                     \u001b[0mins_batch\u001b[0m\u001b[1;33m[\u001b[0m\u001b[0mi\u001b[0m\u001b[1;33m]\u001b[0m \u001b[1;33m=\u001b[0m \u001b[0mins_batch\u001b[0m\u001b[1;33m[\u001b[0m\u001b[0mi\u001b[0m\u001b[1;33m]\u001b[0m\u001b[1;33m.\u001b[0m\u001b[0mtoarray\u001b[0m\u001b[1;33m(\u001b[0m\u001b[1;33m)\u001b[0m\u001b[1;33m\u001b[0m\u001b[1;33m\u001b[0m\u001b[0m\n\u001b[0;32m    198\u001b[0m \u001b[1;33m\u001b[0m\u001b[0m\n\u001b[1;32m--> 199\u001b[1;33m                 \u001b[0mouts\u001b[0m \u001b[1;33m=\u001b[0m \u001b[0mf\u001b[0m\u001b[1;33m(\u001b[0m\u001b[0mins_batch\u001b[0m\u001b[1;33m)\u001b[0m\u001b[1;33m\u001b[0m\u001b[1;33m\u001b[0m\u001b[0m\n\u001b[0m\u001b[0;32m    200\u001b[0m                 \u001b[0mouts\u001b[0m \u001b[1;33m=\u001b[0m \u001b[0mto_list\u001b[0m\u001b[1;33m(\u001b[0m\u001b[0mouts\u001b[0m\u001b[1;33m)\u001b[0m\u001b[1;33m\u001b[0m\u001b[1;33m\u001b[0m\u001b[0m\n\u001b[0;32m    201\u001b[0m                 \u001b[1;32mfor\u001b[0m \u001b[0ml\u001b[0m\u001b[1;33m,\u001b[0m \u001b[0mo\u001b[0m \u001b[1;32min\u001b[0m \u001b[0mzip\u001b[0m\u001b[1;33m(\u001b[0m\u001b[0mout_labels\u001b[0m\u001b[1;33m,\u001b[0m \u001b[0mouts\u001b[0m\u001b[1;33m)\u001b[0m\u001b[1;33m:\u001b[0m\u001b[1;33m\u001b[0m\u001b[1;33m\u001b[0m\u001b[0m\n",
      "\u001b[1;32mC:\\ProgramData\\Anaconda3\\envs\\kaggle_py36\\lib\\site-packages\\keras\\backend\\tensorflow_backend.py\u001b[0m in \u001b[0;36m__call__\u001b[1;34m(self, inputs)\u001b[0m\n\u001b[0;32m   2713\u001b[0m                 \u001b[1;32mreturn\u001b[0m \u001b[0mself\u001b[0m\u001b[1;33m.\u001b[0m\u001b[0m_legacy_call\u001b[0m\u001b[1;33m(\u001b[0m\u001b[0minputs\u001b[0m\u001b[1;33m)\u001b[0m\u001b[1;33m\u001b[0m\u001b[1;33m\u001b[0m\u001b[0m\n\u001b[0;32m   2714\u001b[0m \u001b[1;33m\u001b[0m\u001b[0m\n\u001b[1;32m-> 2715\u001b[1;33m             \u001b[1;32mreturn\u001b[0m \u001b[0mself\u001b[0m\u001b[1;33m.\u001b[0m\u001b[0m_call\u001b[0m\u001b[1;33m(\u001b[0m\u001b[0minputs\u001b[0m\u001b[1;33m)\u001b[0m\u001b[1;33m\u001b[0m\u001b[1;33m\u001b[0m\u001b[0m\n\u001b[0m\u001b[0;32m   2716\u001b[0m         \u001b[1;32melse\u001b[0m\u001b[1;33m:\u001b[0m\u001b[1;33m\u001b[0m\u001b[1;33m\u001b[0m\u001b[0m\n\u001b[0;32m   2717\u001b[0m             \u001b[1;32mif\u001b[0m \u001b[0mpy_any\u001b[0m\u001b[1;33m(\u001b[0m\u001b[0mis_tensor\u001b[0m\u001b[1;33m(\u001b[0m\u001b[0mx\u001b[0m\u001b[1;33m)\u001b[0m \u001b[1;32mfor\u001b[0m \u001b[0mx\u001b[0m \u001b[1;32min\u001b[0m \u001b[0minputs\u001b[0m\u001b[1;33m)\u001b[0m\u001b[1;33m:\u001b[0m\u001b[1;33m\u001b[0m\u001b[1;33m\u001b[0m\u001b[0m\n",
      "\u001b[1;32mC:\\ProgramData\\Anaconda3\\envs\\kaggle_py36\\lib\\site-packages\\keras\\backend\\tensorflow_backend.py\u001b[0m in \u001b[0;36m_call\u001b[1;34m(self, inputs)\u001b[0m\n\u001b[0;32m   2673\u001b[0m             \u001b[0mfetched\u001b[0m \u001b[1;33m=\u001b[0m \u001b[0mself\u001b[0m\u001b[1;33m.\u001b[0m\u001b[0m_callable_fn\u001b[0m\u001b[1;33m(\u001b[0m\u001b[1;33m*\u001b[0m\u001b[0marray_vals\u001b[0m\u001b[1;33m,\u001b[0m \u001b[0mrun_metadata\u001b[0m\u001b[1;33m=\u001b[0m\u001b[0mself\u001b[0m\u001b[1;33m.\u001b[0m\u001b[0mrun_metadata\u001b[0m\u001b[1;33m)\u001b[0m\u001b[1;33m\u001b[0m\u001b[1;33m\u001b[0m\u001b[0m\n\u001b[0;32m   2674\u001b[0m         \u001b[1;32melse\u001b[0m\u001b[1;33m:\u001b[0m\u001b[1;33m\u001b[0m\u001b[1;33m\u001b[0m\u001b[0m\n\u001b[1;32m-> 2675\u001b[1;33m             \u001b[0mfetched\u001b[0m \u001b[1;33m=\u001b[0m \u001b[0mself\u001b[0m\u001b[1;33m.\u001b[0m\u001b[0m_callable_fn\u001b[0m\u001b[1;33m(\u001b[0m\u001b[1;33m*\u001b[0m\u001b[0marray_vals\u001b[0m\u001b[1;33m)\u001b[0m\u001b[1;33m\u001b[0m\u001b[1;33m\u001b[0m\u001b[0m\n\u001b[0m\u001b[0;32m   2676\u001b[0m         \u001b[1;32mreturn\u001b[0m \u001b[0mfetched\u001b[0m\u001b[1;33m[\u001b[0m\u001b[1;33m:\u001b[0m\u001b[0mlen\u001b[0m\u001b[1;33m(\u001b[0m\u001b[0mself\u001b[0m\u001b[1;33m.\u001b[0m\u001b[0moutputs\u001b[0m\u001b[1;33m)\u001b[0m\u001b[1;33m]\u001b[0m\u001b[1;33m\u001b[0m\u001b[1;33m\u001b[0m\u001b[0m\n\u001b[0;32m   2677\u001b[0m \u001b[1;33m\u001b[0m\u001b[0m\n",
      "\u001b[1;32m~\\AppData\\Roaming\\Python\\Python36\\site-packages\\tensorflow\\python\\client\\session.py\u001b[0m in \u001b[0;36m__call__\u001b[1;34m(self, *args)\u001b[0m\n\u001b[0;32m   1449\u001b[0m         \u001b[1;32mif\u001b[0m \u001b[0mself\u001b[0m\u001b[1;33m.\u001b[0m\u001b[0m_session\u001b[0m\u001b[1;33m.\u001b[0m\u001b[0m_created_with_new_api\u001b[0m\u001b[1;33m:\u001b[0m\u001b[1;33m\u001b[0m\u001b[1;33m\u001b[0m\u001b[0m\n\u001b[0;32m   1450\u001b[0m           return tf_session.TF_SessionRunCallable(\n\u001b[1;32m-> 1451\u001b[1;33m               self._session._session, self._handle, args, status, None)\n\u001b[0m\u001b[0;32m   1452\u001b[0m         \u001b[1;32melse\u001b[0m\u001b[1;33m:\u001b[0m\u001b[1;33m\u001b[0m\u001b[1;33m\u001b[0m\u001b[0m\n\u001b[0;32m   1453\u001b[0m           return tf_session.TF_DeprecatedSessionRunCallable(\n",
      "\u001b[1;31mKeyboardInterrupt\u001b[0m: "
     ]
    }
   ],
   "source": [
    "model = build_model()\n",
    "model.compile(optimizer='rmsprop', loss = 'binary_crossentropy', metrics=['acc'])\n",
    "history = model.fit(x_train, y_train, epochs =10, batch_size = 100, validation_split= 0.2)"
   ]
  },
  {
   "cell_type": "markdown",
   "metadata": {},
   "source": [
    "# USING RAW IMDB AND GLOVE EMBEDDINGS"
   ]
  },
  {
   "cell_type": "code",
   "execution_count": 9,
   "metadata": {},
   "outputs": [],
   "source": [
    "texts = []\n",
    "labels = []\n",
    "\n",
    "for label in ['neg','pos']:\n",
    "    dir_name = os.path.join(imdb_dir, label)\n",
    "    for fname in os.listdir(dir_name):\n",
    "        fname = os.path.join(dir_name,fname)\n",
    "        if fname[-4:] == \".txt\":\n",
    "            with open( fname, \"r\", encoding=\"utf-8\") as file:\n",
    "                texts.append(file.read())\n",
    "                labels.append(1 if label=='pos' else 0)\n",
    "\n",
    "                "
   ]
  },
  {
   "cell_type": "code",
   "execution_count": 10,
   "metadata": {},
   "outputs": [
    {
     "name": "stdout",
     "output_type": "stream",
     "text": [
      "17243 17243\n"
     ]
    }
   ],
   "source": [
    "print(len(texts), len(labels))"
   ]
  },
  {
   "cell_type": "code",
   "execution_count": 11,
   "metadata": {},
   "outputs": [
    {
     "name": "stdout",
     "output_type": "stream",
     "text": [
      "(17243, 100) (17243,)\n",
      "(13794, 100) (13794,) (3449, 100) (3449,)\n"
     ]
    }
   ],
   "source": [
    "tokenizer = Tokenizer(num_words = max_features)\n",
    "tokenizer.fit_on_texts(texts)\n",
    "sequences = tokenizer.texts_to_sequences(texts)\n",
    "word_index = tokenizer.word_index\n",
    "\n",
    "data = pad_sequences(sequences, maxlen = maxlen)\n",
    "labels = np.asarray(labels)\n",
    "indices = np.arange(data.shape[0])\n",
    "np.random.shuffle(indices)\n",
    "\n",
    "data = data[indices]\n",
    "labels = labels[indices]\n",
    "\n",
    "print (data.shape, labels.shape)\n",
    "\n",
    "x_train, x_valid, y_train, y_valid = train_test_split(data, labels, test_size=0.2)\n",
    "print(x_train.shape, y_train.shape, x_valid.shape, y_valid.shape)\n"
   ]
  },
  {
   "cell_type": "code",
   "execution_count": 12,
   "metadata": {},
   "outputs": [
    {
     "data": {
      "text/plain": [
       "0"
      ]
     },
     "execution_count": 12,
     "metadata": {},
     "output_type": "execute_result"
    }
   ],
   "source": [
    "y_train[1]"
   ]
  },
  {
   "cell_type": "raw",
   "metadata": {},
   "source": [
    "#embed_index = np.loadtxt(GLOVE_FILE, usecols=range(1, 300+1), comments=None)"
   ]
  },
  {
   "cell_type": "code",
   "execution_count": 13,
   "metadata": {},
   "outputs": [
    {
     "name": "stderr",
     "output_type": "stream",
     "text": [
      "C:\\ProgramData\\Anaconda3\\envs\\kaggle_py36\\lib\\site-packages\\gensim\\utils.py:1197: UserWarning: detected Windows; aliasing chunkize to chunkize_serial\n",
      "  warnings.warn(\"detected Windows; aliasing chunkize to chunkize_serial\")\n"
     ]
    }
   ],
   "source": [
    "from gensim.test.utils import datapath, get_tmpfile\n",
    "from gensim.models import KeyedVectors\n",
    "\n",
    "glove_file = datapath(GLOVE_FILE)\n",
    "tmp_file = get_tmpfile(WORD2VEC_FILE)\n",
    "\n",
    "from gensim.scripts.glove2word2vec import glove2word2vec\n",
    "glove2word2vec(glove_file, tmp_file)\n",
    "\n",
    "embed_index = KeyedVectors.load_word2vec_format(tmp_file)"
   ]
  },
  {
   "cell_type": "code",
   "execution_count": 14,
   "metadata": {},
   "outputs": [],
   "source": [
    "embed_matrix = np.zeros((max_features, EMBED_DIM))\n",
    "for word, i in word_index.items():\n",
    "    if i < max_features:\n",
    "        if word in embed_index:\n",
    "            embed_vector = embed_index[word]\n",
    "            embed_matrix[i]= embed_vector\n",
    "        else:\n",
    "            pass\n",
    "           # print(\"missing \", word)"
   ]
  },
  {
   "cell_type": "code",
   "execution_count": 15,
   "metadata": {},
   "outputs": [
    {
     "name": "stdout",
     "output_type": "stream",
     "text": [
      "_________________________________________________________________\n",
      "Layer (type)                 Output Shape              Param #   \n",
      "=================================================================\n",
      "embedding_1 (Embedding)      (None, 100, 300)          3000000   \n",
      "_________________________________________________________________\n",
      "flatten_1 (Flatten)          (None, 30000)             0         \n",
      "_________________________________________________________________\n",
      "dense_1 (Dense)              (None, 32)                960032    \n",
      "_________________________________________________________________\n",
      "dense_2 (Dense)              (None, 1)                 33        \n",
      "=================================================================\n",
      "Total params: 3,960,065\n",
      "Trainable params: 3,960,065\n",
      "Non-trainable params: 0\n",
      "_________________________________________________________________\n",
      "None\n",
      "(10000, 300)\n",
      "(13794, 100) (13794,) (3449, 100) (3449,)\n",
      "Train on 13794 samples, validate on 3449 samples\n",
      "Epoch 1/5\n",
      "13794/13794 [==============================] - 6s 468us/step - loss: 0.5018 - acc: 0.7702 - val_loss: 0.5020 - val_acc: 0.7649\n",
      "Epoch 2/5\n",
      "13794/13794 [==============================] - 6s 422us/step - loss: 0.3253 - acc: 0.8565 - val_loss: 0.5510 - val_acc: 0.7994\n",
      "Epoch 3/5\n",
      "13794/13794 [==============================] - 6s 427us/step - loss: 0.1918 - acc: 0.9242 - val_loss: 0.6018 - val_acc: 0.8005\n",
      "Epoch 4/5\n",
      "13794/13794 [==============================] - 6s 447us/step - loss: 0.1010 - acc: 0.9647 - val_loss: 0.6928 - val_acc: 0.7820\n",
      "Epoch 5/5\n",
      "13794/13794 [==============================] - 6s 447us/step - loss: 0.0509 - acc: 0.9826 - val_loss: 0.8290 - val_acc: 0.7828\n"
     ]
    }
   ],
   "source": [
    "backend.clear_session()\n",
    "\n",
    "model = build_model()\n",
    "print(embed_matrix.shape)\n",
    "model.layers[0].set_weights([embed_matrix])\n",
    "model.layers[0].trainable = False\n",
    "\n",
    "model.compile(optimizer='rmsprop',loss='binary_crossentropy', metrics=['acc'])\n",
    "\n",
    "print(x_train.shape, y_train.shape, x_valid.shape, y_valid.shape)\n",
    "epochs = 5\n",
    "history = model.fit(x_train, y_train, epochs =epochs, batch_size = 32,validation_data = (x_valid, y_valid))\n",
    "model.save_weights(\"pre_rrained_glove_model.h5\")\n",
    "\n",
    "del model\n"
   ]
  },
  {
   "cell_type": "code",
   "execution_count": 31,
   "metadata": {},
   "outputs": [],
   "source": [
    "def plot_history(history, acc= True, loss=True):\n",
    "    epochs = len(history.history[\"acc\"])\n",
    "    if acc:\n",
    "        plt.Figure()\n",
    "        plt.plot(range(0,epochs),history.history[\"acc\"], label = \"train acc\")\n",
    "        plt.plot(range(0,epochs),history.history[\"val_acc\"],label = \"valid  acc\")\n",
    "        plt.legend()\n",
    "        plt.xlabel(\"epochs\")\n",
    "        plt.ylabel(\"accuracy\")\n",
    "\n",
    "    if loss:\n",
    "        plt.figure()\n",
    "        plt.plot(range(0,epochs),history.history[\"loss\"], label = \"train loss\")\n",
    "        plt.plot(range(0,epochs),history.history[\"val_loss\"],label = \"valid  loss\")\n",
    "        #plt.plot(epochs,history.history[\"mae\"],label = \"mae\")\n",
    "        plt.legend()\n",
    "        plt.xlabel(\"epochs\")\n",
    "        plt.ylabel(\"loss\")\n",
    "   \n",
    "#epochs = 5\n",
    "#plot_history(history)"
   ]
  },
  {
   "cell_type": "markdown",
   "metadata": {},
   "source": [
    "# IMDB with RNN"
   ]
  },
  {
   "cell_type": "code",
   "execution_count": 22,
   "metadata": {},
   "outputs": [],
   "source": [
    "def build_rnn_model(typ=\"RNN\"):\n",
    "    model = Sequential()\n",
    "    model.add(Embedding(max_features, 32))\n",
    "    if typ == \"LSTM\":\n",
    "        model.add(LSTM(32))\n",
    "    elif typ == \"GRU\":\n",
    "        model.add(GRU(32))\n",
    "    else:\n",
    "        model.add(SimpleRNN(32))\n",
    "    model.add(Dense(1,activation = 'sigmoid' ))\n",
    "    \n",
    "    model.compile(optimizer='rmsprop', loss='binary_crossentropy', metrics=['acc'])\n",
    "    \n",
    "    return model\n"
   ]
  },
  {
   "cell_type": "code",
   "execution_count": 23,
   "metadata": {},
   "outputs": [
    {
     "name": "stdout",
     "output_type": "stream",
     "text": [
      "Train on 8000 samples, validate on 2000 samples\n",
      "Epoch 1/5\n",
      "8000/8000 [==============================] - 3s 378us/step - loss: 0.6265 - acc: 0.6359 - val_loss: 0.4525 - val_acc: 0.8120\n",
      "Epoch 2/5\n",
      "8000/8000 [==============================] - 3s 316us/step - loss: 0.3794 - acc: 0.8385 - val_loss: 0.4209 - val_acc: 0.8175\n",
      "Epoch 3/5\n",
      "8000/8000 [==============================] - 3s 320us/step - loss: 0.2594 - acc: 0.8985 - val_loss: 0.4207 - val_acc: 0.8235\n",
      "Epoch 4/5\n",
      "8000/8000 [==============================] - 3s 317us/step - loss: 0.1660 - acc: 0.9396 - val_loss: 0.4843 - val_acc: 0.8035\n",
      "Epoch 5/5\n",
      "8000/8000 [==============================] - 3s 323us/step - loss: 0.0926 - acc: 0.9683 - val_loss: 0.5561 - val_acc: 0.7930\n",
      "Train on 8000 samples, validate on 2000 samples\n",
      "Epoch 1/5\n",
      "8000/8000 [==============================] - 8s 1ms/step - loss: 0.5309 - acc: 0.7326 - val_loss: 0.3908 - val_acc: 0.8220\n",
      "Epoch 2/5\n",
      "8000/8000 [==============================] - 7s 919us/step - loss: 0.3157 - acc: 0.8715 - val_loss: 0.4553 - val_acc: 0.7980\n",
      "Epoch 3/5\n",
      "8000/8000 [==============================] - 7s 929us/step - loss: 0.2377 - acc: 0.9104 - val_loss: 0.3605 - val_acc: 0.8380\n",
      "Epoch 4/5\n",
      "8000/8000 [==============================] - 7s 929us/step - loss: 0.1928 - acc: 0.9305 - val_loss: 0.3829 - val_acc: 0.8420\n",
      "Epoch 5/5\n",
      "8000/8000 [==============================] - 7s 927us/step - loss: 0.1537 - acc: 0.9461 - val_loss: 0.6330 - val_acc: 0.8175\n",
      "Train on 8000 samples, validate on 2000 samples\n",
      "Epoch 1/5\n",
      "8000/8000 [==============================] - 7s 864us/step - loss: 0.5616 - acc: 0.6885 - val_loss: 0.4021 - val_acc: 0.8275\n",
      "Epoch 2/5\n",
      "8000/8000 [==============================] - 6s 781us/step - loss: 0.3273 - acc: 0.8644 - val_loss: 0.3673 - val_acc: 0.8340\n",
      "Epoch 3/5\n",
      "8000/8000 [==============================] - 6s 773us/step - loss: 0.2429 - acc: 0.9061 - val_loss: 0.3982 - val_acc: 0.8355\n",
      "Epoch 4/5\n",
      "8000/8000 [==============================] - 6s 789us/step - loss: 0.1935 - acc: 0.9307 - val_loss: 0.3949 - val_acc: 0.8340\n",
      "Epoch 5/5\n",
      "8000/8000 [==============================] - 6s 788us/step - loss: 0.1623 - acc: 0.9418 - val_loss: 0.4439 - val_acc: 0.8180\n"
     ]
    }
   ],
   "source": [
    "epochs = 5\n",
    "\n",
    "model0 = build_rnn_model(\"RNN\")\n",
    "history0 = model0.fit(x_train, y_train, epochs = epochs, batch_size=32, validation_split=0.2)\n",
    "\n",
    "model1 = build_rnn_model(\"LSTM\")\n",
    "history1 = model1.fit(x_train, y_train, epochs = epochs, batch_size=32, validation_split=0.2)\n",
    "\n",
    "model2 = build_rnn_model(\"GRU\")\n",
    "history2 = model2.fit(x_train, y_train, epochs = epochs, batch_size=32, validation_split=0.2)\n",
    "\n"
   ]
  },
  {
   "cell_type": "code",
   "execution_count": 32,
   "metadata": {},
   "outputs": [
    {
     "data": {
      "image/png": "[encoded data removed]",
      "text/plain": [
       "<Figure size 432x288 with 1 Axes>"
      ]
     },
     "metadata": {
      "needs_background": "light"
     },
     "output_type": "display_data"
    },
    {
     "data": {
      "image/png": "[encoded data removed]",
      "text/plain": [
       "<Figure size 432x288 with 1 Axes>"
      ]
     },
     "metadata": {
      "needs_background": "light"
     },
     "output_type": "display_data"
    }
   ],
   "source": [
    "\n",
    "plot_history(history0, acc=False)\n",
    "plot_history(history1, acc=False)\n",
    "#plt.figure()\n",
    "#plot_history(history2)"
   ]
  },
  {
   "cell_type": "markdown",
   "metadata": {},
   "source": [
    "LSTM loss is less than RNN loss on valid data after 4 epochs"
   ]
  },
  {
   "cell_type": "code",
   "execution_count": null,
   "metadata": {},
   "outputs": [],
   "source": []
  }
 ],
 "metadata": {
  "kernelspec": {
   "display_name": "Python 3",
   "language": "python",
   "name": "python3"
  },
  "language_info": {
   "codemirror_mode": {
    "name": "ipython",
    "version": 3
   },
   "file_extension": ".py",
   "mimetype": "text/x-python",
   "name": "python",
   "nbconvert_exporter": "python",
   "pygments_lexer": "ipython3",
   "version": "3.6.7"
  }
 },
 "nbformat": 4,
 "nbformat_minor": 2
}
